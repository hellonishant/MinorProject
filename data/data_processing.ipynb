{
 "cells": [
  {
   "cell_type": "code",
   "execution_count": 2,
   "metadata": {},
   "outputs": [],
   "source": [
    "import pandas as pd"
   ]
  },
  {
   "cell_type": "code",
   "execution_count": 39,
   "metadata": {},
   "outputs": [],
   "source": [
    "data1 = pd.read_csv('sectioall_m1.csv')\n",
    "data2 = pd.read_csv('sectioall_m2.csv')\n",
    "data3 = pd.read_csv('sectioall_m3.csv')\n",
    "# data4 = pd.read_csv('sectioall_m4.csv')"
   ]
  },
  {
   "cell_type": "code",
   "execution_count": 40,
   "metadata": {},
   "outputs": [],
   "source": [
    "data1.loc[data1['Semster_Name'] == 'Sem_1'].to_csv('processed/me_1.csv', sep=',', index=False)\n",
    "data1.loc[data1['Semster_Name'] == 'Sem_2'].to_csv('processed/me_2.csv', sep=',', index=False)\n",
    "data2.loc[data2['Semster_Name'] == 'Sem_3'].to_csv('processed/me_3.csv', sep=',', index=False)\n",
    "data2.loc[data2['Semster_Name'] == 'Sem_4'].to_csv('processed/me_4.csv', sep=',', index=False)\n",
    "data3.loc[data3['Semster_Name'] == 'Sem_5'].to_csv('processed/me_5.csv', sep=',', index=False)\n",
    "data3.loc[data3['Semster_Name'] == 'Sem_6'].to_csv('processed/me_6.csv', sep=',', index=False)\n",
    "# data4.loc[data4['Semster_Name'] == 'Sem_7'].to_csv('processed/me_7.csv', sep=',', index=False)\n",
    "# data4.loc[data4['Semster_Name'] == 'Sem_8'].to_csv('processed/me_8.csv', sep=',', index=False)"
   ]
  },
  {
   "cell_type": "code",
   "execution_count": null,
   "metadata": {},
   "outputs": [],
   "source": []
  }
 ],
 "metadata": {
  "kernelspec": {
   "display_name": "Python 3",
   "language": "python",
   "name": "python3"
  },
  "language_info": {
   "codemirror_mode": {
    "name": "ipython",
    "version": 3
   },
   "file_extension": ".py",
   "mimetype": "text/x-python",
   "name": "python",
   "nbconvert_exporter": "python",
   "pygments_lexer": "ipython3",
   "version": "3.7.5rc1"
  }
 },
 "nbformat": 4,
 "nbformat_minor": 2
}
